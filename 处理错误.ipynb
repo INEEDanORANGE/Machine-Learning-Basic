{
 "cells": [
  {
   "cell_type": "markdown",
   "metadata": {},
   "source": [
    "# Try 语句\n",
    "\n",
    "### 我们可以使用 try 语句处理异常。你可以使用 4 个子句（除了视频中显示的子句之外还有一个子句）。\n",
    "\n",
    "* try：这是 try 语句中的唯一必需子句。该块中的代码是 Python 在 try 语句中首先运行的代码。\n",
    "* except：如果 Python 在运行 try 块时遇到异常，它将跳到处理该异常的 except 块。\n",
    "* else：如果 Python 在运行 try 块时没有遇到异常，它将在运行 try 块后运行该块中的代码。\n",
    "* finally：在 Python 离开此 try 语句之前，在任何情形下它都将运行此 finally 块中的代码，即使要结束程序，例如：如果 Python 在运行 except 或 else 块中的代码时遇到错误，在停止程序之前，依然会执行此finally 块。"
   ]
  },
  {
   "cell_type": "code",
   "execution_count": 1,
   "metadata": {
    "scrolled": true
   },
   "outputs": [
    {
     "name": "stdout",
     "output_type": "stream",
     "text": [
      "Enter a valid number :ten\n",
      "That's not a valid number\n",
      "Enter again\n",
      "Enter a valid number :a\n",
      "That's not a valid number\n",
      "Enter again\n",
      "Enter a valid number :10\n",
      "Enter again\n"
     ]
    }
   ],
   "source": [
    "while True:\n",
    "    try:\n",
    "        num = int(input('Enter a valid number :'))\n",
    "        break\n",
    "    except:\n",
    "        print('That\\'s not a valid number')\n",
    "    finally:\n",
    "        print('Enter again')#无论程序结果如何，在执行try后finally都执行"
   ]
  },
  {
   "cell_type": "markdown",
   "metadata": {},
   "source": [
    "#### except可以根据不同错误类型执行不同代码，或者后加错误元祖\n",
    "`\n",
    "try:\n",
    "    # some code\n",
    "except ValueError:\n",
    "    # some code\n",
    "except KeyboardInterrupt:\n",
    "    # some code\n",
    " `\n",
    " #### or\n",
    " `\n",
    "try:\n",
    "    # some code\n",
    "except (ValueError, KeyboardInterrupt):\n",
    "    # some code\n",
    " `\n",
    " "
   ]
  },
  {
   "cell_type": "markdown",
   "metadata": {},
   "source": [
    "### 练习：处理除以零的情形\n",
    "\n",
    "现在运行下面的代码将在第二次调用 handle_zero 函数时导致错误，因为它遇到了 ZeroDivisionError 异常。\n",
    "\n",
    "请修改下面的函数以处理该异常。如果在函数的第一行遇到该异常，应该输出警告消息并返回空列表。否则，应该运行函数的剩余代码。最后，该函数应该始终输出返回了多少组。\n"
   ]
  },
  {
   "cell_type": "code",
   "execution_count": 2,
   "metadata": {},
   "outputs": [
    {
     "name": "stdout",
     "output_type": "stream",
     "text": [
      "Creating 6 groups...\n",
      "6 groups returned.\n",
      "[0, 1, 2, 3, 4]\n",
      "[5, 6, 7, 8, 9]\n",
      "[10, 11, 12, 13, 14]\n",
      "[15, 16, 17, 18, 19]\n",
      "[20, 21, 22, 23, 24]\n",
      "[25, 26, 27, 28, 29]\n",
      "[30, 31]\n",
      "\n",
      "Creating 0 groups...\n"
     ]
    },
    {
     "ename": "ZeroDivisionError",
     "evalue": "integer division or modulo by zero",
     "output_type": "error",
     "traceback": [
      "\u001b[1;31m---------------------------------------------------------------------------\u001b[0m",
      "\u001b[1;31mZeroDivisionError\u001b[0m                         Traceback (most recent call last)",
      "\u001b[1;32m<ipython-input-2-e7a94f0d123b>\u001b[0m in \u001b[0;36m<module>\u001b[1;34m()\u001b[0m\n\u001b[0;32m     14\u001b[0m \u001b[1;33m\u001b[0m\u001b[0m\n\u001b[0;32m     15\u001b[0m \u001b[0mprint\u001b[0m\u001b[1;33m(\u001b[0m\u001b[1;34m\"\\nCreating 0 groups...\"\u001b[0m\u001b[1;33m)\u001b[0m\u001b[1;33m\u001b[0m\u001b[0m\n\u001b[1;32m---> 16\u001b[1;33m \u001b[1;32mfor\u001b[0m \u001b[0mgroup\u001b[0m \u001b[1;32min\u001b[0m \u001b[0mcreate_groups\u001b[0m\u001b[1;33m(\u001b[0m\u001b[0mrange\u001b[0m\u001b[1;33m(\u001b[0m\u001b[1;36m32\u001b[0m\u001b[1;33m)\u001b[0m\u001b[1;33m,\u001b[0m \u001b[1;36m0\u001b[0m\u001b[1;33m)\u001b[0m\u001b[1;33m:\u001b[0m\u001b[1;33m\u001b[0m\u001b[0m\n\u001b[0m\u001b[0;32m     17\u001b[0m     \u001b[0mprint\u001b[0m\u001b[1;33m(\u001b[0m\u001b[0mlist\u001b[0m\u001b[1;33m(\u001b[0m\u001b[0mgroup\u001b[0m\u001b[1;33m)\u001b[0m\u001b[1;33m)\u001b[0m\u001b[1;33m\u001b[0m\u001b[0m\n",
      "\u001b[1;32m<ipython-input-2-e7a94f0d123b>\u001b[0m in \u001b[0;36mcreate_groups\u001b[1;34m(items, num_groups)\u001b[0m\n\u001b[0;32m      1\u001b[0m \u001b[1;32mdef\u001b[0m \u001b[0mcreate_groups\u001b[0m\u001b[1;33m(\u001b[0m\u001b[0mitems\u001b[0m\u001b[1;33m,\u001b[0m \u001b[0mnum_groups\u001b[0m\u001b[1;33m)\u001b[0m\u001b[1;33m:\u001b[0m\u001b[1;33m\u001b[0m\u001b[0m\n\u001b[1;32m----> 2\u001b[1;33m     \u001b[0msize\u001b[0m \u001b[1;33m=\u001b[0m \u001b[0mlen\u001b[0m\u001b[1;33m(\u001b[0m\u001b[0mitems\u001b[0m\u001b[1;33m)\u001b[0m \u001b[1;33m//\u001b[0m \u001b[0mnum_groups\u001b[0m\u001b[1;33m\u001b[0m\u001b[0m\n\u001b[0m\u001b[0;32m      3\u001b[0m \u001b[1;33m\u001b[0m\u001b[0m\n\u001b[0;32m      4\u001b[0m     \u001b[0mgroups\u001b[0m \u001b[1;33m=\u001b[0m \u001b[1;33m[\u001b[0m\u001b[1;33m]\u001b[0m\u001b[1;33m\u001b[0m\u001b[0m\n\u001b[0;32m      5\u001b[0m     \u001b[1;32mfor\u001b[0m \u001b[0mi\u001b[0m \u001b[1;32min\u001b[0m \u001b[0mrange\u001b[0m\u001b[1;33m(\u001b[0m\u001b[1;36m0\u001b[0m\u001b[1;33m,\u001b[0m \u001b[0mlen\u001b[0m\u001b[1;33m(\u001b[0m\u001b[0mitems\u001b[0m\u001b[1;33m)\u001b[0m\u001b[1;33m,\u001b[0m \u001b[0msize\u001b[0m\u001b[1;33m)\u001b[0m\u001b[1;33m:\u001b[0m\u001b[1;33m\u001b[0m\u001b[0m\n",
      "\u001b[1;31mZeroDivisionError\u001b[0m: integer division or modulo by zero"
     ]
    }
   ],
   "source": [
    "def create_groups(items, num_groups):\n",
    "    size = len(items) // num_groups\n",
    "\n",
    "    groups = []\n",
    "    for i in range(0, len(items), size):\n",
    "        groups.append(items[i:i + size])\n",
    "\n",
    "    print(\"{} groups returned.\".format(num_groups))\n",
    "    return groups\n",
    "\n",
    "print(\"Creating 6 groups...\")\n",
    "for group in create_groups(range(32), 6):#range() 函数可创建一个整数列表\n",
    "    print(list(group))\n",
    "\n",
    "print(\"\\nCreating 0 groups...\")\n",
    "for group in create_groups(range(32), 0):\n",
    "    print(list(group))"
   ]
  },
  {
   "cell_type": "markdown",
   "metadata": {},
   "source": [
    "#### 修改上面的脚本以处理除以零错误。正确修改的话，应该会输出：\n",
    "`\n",
    "Creating 6 groups...\n",
    "6 groups returned.\n",
    "[0, 1, 2, 3, 4]\n",
    "[5, 6, 7, 8, 9]\n",
    "[10, 11, 12, 13, 14]\n",
    "[15, 16, 17, 18, 19]\n",
    "[20, 21, 22, 23, 24]\n",
    "[25, 26, 27, 28, 29]\n",
    "[30, 31]\n",
    "\n",
    "Creating 0 groups...\n",
    "WARNING: Returning empty list. Please use a nonzero number.\n",
    "0 groups returned.\n",
    "`"
   ]
  },
  {
   "cell_type": "code",
   "execution_count": 15,
   "metadata": {},
   "outputs": [
    {
     "name": "stdout",
     "output_type": "stream",
     "text": [
      "Creating 6 groups...\n",
      "6 groups returned.\n",
      "[0, 1, 2, 3, 4]\n",
      "[5, 6, 7, 8, 9]\n",
      "[10, 11, 12, 13, 14]\n",
      "[15, 16, 17, 18, 19]\n",
      "[20, 21, 22, 23, 24]\n",
      "[25, 26, 27, 28, 29]\n",
      "[30, 31]\n",
      "\n",
      "Creating 0 groups...\n",
      "WARNING: Returning empty list. Please use a nonzero number.\n",
      "0 groups returned.\n"
     ]
    }
   ],
   "source": [
    "def create_groups(items, num_groups):\n",
    "    try:\n",
    "        size = len(items) // num_groups\n",
    "    except:\n",
    "        print ('WARNING: Returning empty list. Please use a nonzero number.')\n",
    "        return []\n",
    "    else:\n",
    "        groups = []\n",
    "        for i in range(0, len(items), size):\n",
    "            groups.append(items[i:i + size])\n",
    "        return groups\n",
    "\n",
    "    finally:\n",
    "        print(\"{} groups returned.\".format(num_groups))\n",
    "\n",
    "\n",
    "print(\"Creating 6 groups...\")\n",
    "for group in create_groups(range(32), 6):#range() 函数可创建一个整数列表\n",
    "    print(list(group))\n",
    "\n",
    "print(\"\\nCreating 0 groups...\")\n",
    "for group in create_groups(range(32), 0):\n",
    "    print(list(group))"
   ]
  },
  {
   "cell_type": "markdown",
   "metadata": {},
   "source": [
    "#### 访问错误消息\n",
    "在处理异常时，依然可以如下所示地访问其错误消息：\n",
    "`\n",
    "try:\n",
    "   \\# some code\n",
    "except ZeroDivisionError as e:\n",
    "   \\# some code\n",
    "   print(\"ZeroDivisionError occurred: {}\".format(e))\n",
    "`\n",
    "应该会输出如下所示的结果：\n",
    "\n",
    "ZeroDivisionError occurred: division by zero\n",
    "因此依然可以访问错误消息，即使已经处理异常以防止程序崩溃！\n",
    "\n",
    "如果没有要处理的具体错误，依然可以如下所示地访问消息：\n",
    "`\n",
    "try:\n",
    "   \\# some code\n",
    "except Exception as e:\n",
    "   \\# some code\n",
    "   print(\"Exception occurred: {}\".format(e))\n",
    "`\n",
    "Exception 是所有内置异常的基础类。"
   ]
  }
 ],
 "metadata": {
  "kernelspec": {
   "display_name": "Python [conda root]",
   "language": "python",
   "name": "conda-root-py"
  },
  "language_info": {
   "codemirror_mode": {
    "name": "ipython",
    "version": 3
   },
   "file_extension": ".py",
   "mimetype": "text/x-python",
   "name": "python",
   "nbconvert_exporter": "python",
   "pygments_lexer": "ipython3",
   "version": "3.6.5"
  }
 },
 "nbformat": 4,
 "nbformat_minor": 2
}
