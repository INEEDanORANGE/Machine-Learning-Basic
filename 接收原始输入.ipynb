{
 "cells": [
  {
   "cell_type": "markdown",
   "metadata": {},
   "source": [
    "练习：生成消息\n",
    "假设你是一名老师，需要向每位学生发一条消息，提醒他们未交的作业和分数是多少。你知道每名学生的姓名，没交的作业份数和分数，这些数据保存在了电子表格中，你只需将这些输入插入你想到的以下消息中即可：\n",
    "\n",
    "Hi [insert student name],\n",
    "\n",
    "This is a reminder that you have [insert number of missing assignments] assignments left to submit before you can graduate. Your current grade is [insert current grade] and can increase to [insert potential grade] if you submit all assignments before the due date.\n",
    "\n",
    "你可以将此消息复制粘贴后发送给每位学生，并且每次手动插入相应的值。但是你要写一个程序来帮助你完成这一流程。\n",
    "\n",
    "写一个完成以下操作的脚本：\n",
    "\n",
    "请求用户输入三次。一次是名字列表，一次是未交作业数量列表，一次是分数列表。使用该输入创建 names、assignments 和 grades 列表。\n",
    "使用循环为每个学生输出一条信息并包含正确的值。潜在分数是 2 乘以未交作业数加上当前分数。"
   ]
  },
  {
   "cell_type": "code",
   "execution_count": 34,
   "metadata": {},
   "outputs": [
    {
     "name": "stdout",
     "output_type": "stream",
     "text": [
      "Enter names separated by commas :a,b,c\n",
      "Enter assignment counts separated by commas :1,2,3\n",
      "Enter grades separated by commas :3,2,1\n",
      "Hi A,\n",
      "     This is a reminder that you have 1 assignmentsleft to submit before you can graduate.Your current grade is 3and can increase to 5 if you submit all assignments before the due date.\n",
      "Hi B,\n",
      "     This is a reminder that you have 2 assignmentsleft to submit before you can graduate.Your current grade is 2and can increase to 6 if you submit all assignments before the due date.\n",
      "Hi C,\n",
      "     This is a reminder that you have 3 assignmentsleft to submit before you can graduate.Your current grade is 1and can increase to 7 if you submit all assignments before the due date.\n"
     ]
    }
   ],
   "source": [
    "name = input('Enter names separated by commas :').title().split(\",\")\n",
    "assignment = input('Enter assignment counts separated by commas :').split(\",\")\n",
    "grades = input('Enter grades separated by commas :').split(\",\")\n",
    "\n",
    "\n",
    "for n,a,g in zip(name,assignment,grades):\n",
    "    b = 2 * int (a) + int(g)\n",
    "    print('Hi {},\\n \\\n",
    "    This is a reminder that you have {} assignments\\\n",
    "left to submit before you can graduate.\\\n",
    "Your current grade is {}and can increase to {} if you \\\n",
    "submit all assignments before the due date.'.format(n,a,g,b))\n"
   ]
  },
  {
   "cell_type": "markdown",
   "metadata": {},
   "source": [
    "zip()函数：压缩两个列表合并为一个"
   ]
  },
  {
   "cell_type": "code",
   "execution_count": 29,
   "metadata": {},
   "outputs": [
    {
     "name": "stdout",
     "output_type": "stream",
     "text": [
      "(1, 4)\n",
      "(2, 5)\n",
      "(3, 6)\n",
      "('a', 'b')\n",
      "('b', 'c')\n",
      "('c', 'd')\n",
      "('d', 'e')\n",
      "('e', 'f')\n",
      "('f', 'g')\n"
     ]
    }
   ],
   "source": [
    "#python3中zip()返回一个可比遍历的对象\n",
    "a = (1,2,3)\n",
    "b = (4,5,6)\n",
    "c = zip(a,b)\n",
    "\n",
    "for d in c:\n",
    "    print (d)\n",
    "\n",
    "#将列表元素依次相连\n",
    "q = ['a','b','c','d','e','f','g']\n",
    "w = zip(q[:-1],q[1:])\n",
    "for ww in w:\n",
    "    print (ww)"
   ]
  },
  {
   "cell_type": "markdown",
   "metadata": {},
   "source": [
    "title()函数：字符串每个单词首字母大写\n",
    "str.title()"
   ]
  },
  {
   "cell_type": "code",
   "execution_count": 30,
   "metadata": {},
   "outputs": [
    {
     "data": {
      "text/plain": [
       "'Hello World'"
      ]
     },
     "execution_count": 30,
     "metadata": {},
     "output_type": "execute_result"
    }
   ],
   "source": [
    "a = \"hello world\"\n",
    "a.title()"
   ]
  },
  {
   "cell_type": "markdown",
   "metadata": {},
   "source": [
    "split()函数：通过制定方法对字符串进行切片\n",
    "str.split()\n"
   ]
  },
  {
   "cell_type": "code",
   "execution_count": 33,
   "metadata": {},
   "outputs": [
    {
     "name": "stdout",
     "output_type": "stream",
     "text": [
      "['how are you', 'G']\n",
      "['how', 'are you,G']\n"
     ]
    }
   ],
   "source": [
    "a = \"how are you,G\"\n",
    "b = a.split(',')\n",
    "print (b)\n",
    "c = a.split(' ',1)\n",
    "print (c)"
   ]
  },
  {
   "cell_type": "code",
   "execution_count": null,
   "metadata": {},
   "outputs": [],
   "source": []
  }
 ],
 "metadata": {
  "kernelspec": {
   "display_name": "Python [conda root]",
   "language": "python",
   "name": "conda-root-py"
  },
  "language_info": {
   "codemirror_mode": {
    "name": "ipython",
    "version": 3
   },
   "file_extension": ".py",
   "mimetype": "text/x-python",
   "name": "python",
   "nbconvert_exporter": "python",
   "pygments_lexer": "ipython3",
   "version": "3.6.5"
  }
 },
 "nbformat": 4,
 "nbformat_minor": 2
}
